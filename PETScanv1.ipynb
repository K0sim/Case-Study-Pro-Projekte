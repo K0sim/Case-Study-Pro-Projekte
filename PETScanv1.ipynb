{
 "cells": [
  {
   "cell_type": "markdown",
   "metadata": {},
   "source": [
    "# PETScanv1.0"
   ]
  },
  {
   "cell_type": "markdown",
   "metadata": {},
   "source": [
    "hier finden sie eine Pipeline zur sequenziellen verarbeitung von Bilddaten zur Detektion mangelhafter Exemplare im Hochgeschwindigkeitsfluss"
   ]
  },
  {
   "cell_type": "markdown",
   "metadata": {},
   "source": [
    "Daten vorbereiten (Train/Test-Split)\n",
    "\n",
    "🔹 Ziel: Die vorhandenen 50 i.O.- und 40 n.i.O.-Bilder aufteilen in Trainings- und Testdaten.\n",
    "🔹 Vorgehen:\n",
    "\n",
    "    80% der Bilder zum Trainieren des Modells\n",
    "    20% der Bilder für den Test (damit wir das Modell später evaluieren können)"
   ]
  },
  {
   "cell_type": "code",
   "execution_count": 1,
   "metadata": {},
   "outputs": [
    {
     "name": "stdout",
     "output_type": "stream",
     "text": [
      "✅ Bilder wurden erfolgreich aufgeteilt!\n"
     ]
    }
   ],
   "source": [
    "import os\n",
    "import shutil\n",
    "import random\n",
    "\n",
    "# Ordner mit den Originalbildern\n",
    "IO_PATH = \"C:/Users/ThinkPad/Bewerbung/abgeschickt/Pro Projekte/Bilder/i.O\"\n",
    "NIO_PATH = \"C:/Users/ThinkPad/Bewerbung/abgeschickt/Pro Projekte/Bilder/n.i.O\"\n",
    "\n",
    "# Zielordner für Training & Test\n",
    "TRAIN_PATH = \"C:/Users/ThinkPad/Bewerbung/abgeschickt/Pro Projekte/Bilder/train\"\n",
    "TEST_PATH = \"C:/Users/ThinkPad/Bewerbung/abgeschickt/Pro Projekte/Bilder/test\"\n",
    "\n",
    "# Prozentsatz für Training (z. B. 80% Training, 20% Test)\n",
    "TRAIN_SPLIT = 0.8\n",
    "\n",
    "# Sicherstellen, dass Ordner existieren\n",
    "for path in [TRAIN_PATH, TEST_PATH]:\n",
    "    for category in [\"iO\", \"niO\"]:\n",
    "        os.makedirs(os.path.join(path, category), exist_ok=True)\n",
    "\n",
    "# Funktion zum Aufteilen der Bilder\n",
    "def split_images(source_folder, train_folder, test_folder, category):\n",
    "    images = os.listdir(source_folder)\n",
    "    random.shuffle(images)  # Zufällige Reihenfolge\n",
    "\n",
    "    train_count = int(len(images) * TRAIN_SPLIT)\n",
    "    train_images = images[:train_count]\n",
    "    test_images = images[train_count:]\n",
    "\n",
    "    # Bilder in die entsprechenden Ordner kopieren\n",
    "    for img in train_images:\n",
    "        shutil.copy(os.path.join(source_folder, img), os.path.join(train_folder, category, img))\n",
    "    for img in test_images:\n",
    "        shutil.copy(os.path.join(source_folder, img), os.path.join(test_folder, category, img))\n",
    "\n",
    "# Bilder aufteilen\n",
    "split_images(IO_PATH, TRAIN_PATH, TEST_PATH, \"iO\")\n",
    "split_images(NIO_PATH, TRAIN_PATH, TEST_PATH, \"niO\")\n",
    "\n",
    "print(\"✅ Bilder wurden erfolgreich aufgeteilt!\")\n"
   ]
  },
  {
   "cell_type": "markdown",
   "metadata": {},
   "source": [
    "Ziel der Bildvorverarbeitung\n",
    "\n",
    "Wir wollen sicherstellen, dass unsere Bilder einheitlich und optimal für das Modell aufbereitet sind.\n",
    "Das bedeutet:\n",
    "\n",
    "✅ Flasche im Bild erkennen & ausschneiden (ROI-Extraktion)\n",
    "✅ Bilder auf eine feste Größe bringen (224x224 Pixel für CNNs)\n",
    "✅ Farbwerte normalisieren (ohne Graustufen!)\n",
    "✅ Optional: Augmentation für mehr Datenvielfalt"
   ]
  },
  {
   "cell_type": "code",
   "execution_count": 2,
   "metadata": {},
   "outputs": [
    {
     "ename": "ModuleNotFoundError",
     "evalue": "No module named 'cv2'",
     "output_type": "error",
     "traceback": [
      "\u001b[1;31m---------------------------------------------------------------------------\u001b[0m",
      "\u001b[1;31mModuleNotFoundError\u001b[0m                       Traceback (most recent call last)",
      "Cell \u001b[1;32mIn[2], line 1\u001b[0m\n\u001b[1;32m----> 1\u001b[0m \u001b[38;5;28;01mimport\u001b[39;00m\u001b[38;5;250m \u001b[39m\u001b[38;5;21;01mcv2\u001b[39;00m\n\u001b[0;32m      2\u001b[0m \u001b[38;5;28;01mimport\u001b[39;00m\u001b[38;5;250m \u001b[39m\u001b[38;5;21;01mos\u001b[39;00m\n\u001b[0;32m      3\u001b[0m \u001b[38;5;28;01mimport\u001b[39;00m\u001b[38;5;250m \u001b[39m\u001b[38;5;21;01mnumpy\u001b[39;00m\u001b[38;5;250m \u001b[39m\u001b[38;5;28;01mas\u001b[39;00m\u001b[38;5;250m \u001b[39m\u001b[38;5;21;01mnp\u001b[39;00m\n",
      "\u001b[1;31mModuleNotFoundError\u001b[0m: No module named 'cv2'"
     ]
    }
   ],
   "source": [
    "import cv2\n",
    "import os\n",
    "import numpy as np\n",
    "import matplotlib.pyplot as plt\n",
    "\n",
    "# Pfade zu den Trainingsbildern\n",
    "TRAIN_PATH = \"C:/Users/ThinkPad/Bewerbung/abgeschickt/Pro Projekte/Bilder/train\"\n",
    "PROCESSED_PATH = \"C:/Users/ThinkPad/Bewerbung/abgeschickt/Pro Projekte/Bilder/processed\"\n",
    "\n",
    "# Sicherstellen, dass der Verarbeitungsordner existiert\n",
    "for category in [\"iO\", \"niO\"]:\n",
    "    os.makedirs(os.path.join(PROCESSED_PATH, category), exist_ok=True)\n",
    "\n",
    "# Funktion zur ROI-Extraktion (Flasche finden und ausschneiden)\n",
    "def extract_bottle_roi(image):\n",
    "    # Bild in HSV umwandeln (für bessere Farberkennung)\n",
    "    hsv = cv2.cvtColor(image, cv2.COLOR_BGR2HSV)\n",
    "\n",
    "    # Grüne Flasche erkennen (HSV-Farbfilter)\n",
    "    lower_green = np.array([35, 40, 40])  # Untere Grenze für Grün\n",
    "    upper_green = np.array([85, 255, 255])  # Obere Grenze für Grün\n",
    "    mask = cv2.inRange(hsv, lower_green, upper_green)\n",
    "\n",
    "    # Konturen finden\n",
    "    contours, _ = cv2.findContours(mask, cv2.RETR_EXTERNAL, cv2.CHAIN_APPROX_SIMPLE)\n",
    "\n",
    "    # Falls Konturen gefunden wurden, wähle die größte\n",
    "    if contours:\n",
    "        largest_contour = max(contours, key=cv2.contourArea)\n",
    "        x, y, w, h = cv2.boundingRect(largest_contour)\n",
    "        roi = image[y:y+h, x:x+w]  # Region of Interest (Flasche)\n",
    "        return roi\n",
    "    else:\n",
    "        return None  # Keine Flasche gefunden\n",
    "\n",
    "# Verarbeite alle Bilder im Trainingsset\n",
    "for category in [\"iO\", \"niO\"]:\n",
    "    folder_path = os.path.join(TRAIN_PATH, category)\n",
    "    processed_folder = os.path.join(PROCESSED_PATH, category)\n",
    "\n",
    "    for filename in os.listdir(folder_path):\n",
    "        img_path = os.path.join(folder_path, filename)\n",
    "        image = cv2.imread(img_path)\n",
    "\n",
    "        if image is not None:\n",
    "            roi = extract_bottle_roi(image)  # Flasche extrahieren\n",
    "            if roi is not None:\n",
    "                roi_resized = cv2.resize(roi, (224, 224))  # Bildgröße anpassen\n",
    "                cv2.imwrite(os.path.join(processed_folder, filename), roi_resized)  # Speichern\n",
    "            else:\n",
    "                print(f\"⚠ Keine Flasche erkannt in: {filename}\")\n"
   ]
  }
 ],
 "metadata": {
  "kernelspec": {
   "display_name": "Python 3",
   "language": "python",
   "name": "python3"
  },
  "language_info": {
   "codemirror_mode": {
    "name": "ipython",
    "version": 3
   },
   "file_extension": ".py",
   "mimetype": "text/x-python",
   "name": "python",
   "nbconvert_exporter": "python",
   "pygments_lexer": "ipython3",
   "version": "3.13.2"
  }
 },
 "nbformat": 4,
 "nbformat_minor": 2
}
